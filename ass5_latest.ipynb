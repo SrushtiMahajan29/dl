{
 "cells": [
  {
   "cell_type": "code",
   "execution_count": 5,
   "metadata": {
    "colab": {
     "base_uri": "https://localhost:8080/"
    },
    "executionInfo": {
     "elapsed": 3709,
     "status": "ok",
     "timestamp": 1700375915797,
     "user": {
      "displayName": "Harish Bapat",
      "userId": "01261412703411895454"
     },
     "user_tz": -330
    },
    "id": "Il4OWhgbHbJz",
    "outputId": "062cd898-50f6-469f-bfd9-3864cc5c3f5c"
   },
   "outputs": [
    {
     "name": "stderr",
     "output_type": "stream",
     "text": [
      "[nltk_data] Downloading package punkt to\n",
      "[nltk_data]     C:\\Users\\tejas\\AppData\\Roaming\\nltk_data...\n",
      "[nltk_data]   Unzipping tokenizers\\punkt.zip.\n",
      "[nltk_data] Downloading package stopwords to\n",
      "[nltk_data]     C:\\Users\\tejas\\AppData\\Roaming\\nltk_data...\n",
      "[nltk_data]   Unzipping corpora\\stopwords.zip.\n"
     ]
    },
    {
     "name": "stdout",
     "output_type": "stream",
     "text": [
      "Predicted word: [('love', 0.25000066)]\n"
     ]
    }
   ],
   "source": [
    "from gensim.models import Word2Vec\n",
    "from nltk.tokenize import word_tokenize\n",
    "from nltk.corpus import stopwords\n",
    "import string\n",
    "import nltk.\n",
    "\n",
    "nltk.download('punkt')\n",
    "nltk.download('stopwords')\n",
    "\n",
    "def preprocess_text(text):\n",
    "    # Tokenize the text into words\n",
    "    tokens = word_tokenize(text.lower())\n",
    "\n",
    "    # Remove stopwords and punctuation\n",
    "    stop_words = set(stopwords.words('english'))\n",
    "    tokens = [word for word in tokens if word.isalpha() and word not in stop_words and word not in string.punctuation]\n",
    "\n",
    "    return tokens\n",
    "\n",
    "# Sample text for training the CBOW model\n",
    "text = \"Hi my name is Harish.I love to read.I love to sing.Thats all folks\"\n",
    "\n",
    "# Preprocess the text\n",
    "tokens = preprocess_text(text)\n",
    "\n",
    "# Create training data with context and target word\n",
    "training_data = []\n",
    "context_size = 2  # Adjust the context size as needed\n",
    "\n",
    "for i in range(context_size, len(tokens) - context_size):\n",
    "    context = tokens[i - context_size : i] + tokens[i + 1 : i + 1 + context_size]\n",
    "    target = tokens[i]\n",
    "    training_data.append(context + [target])  # Combine context and target into a single list\n",
    "\n",
    "# Define the CBOW model using Word2Vec\n",
    "model_cbow = Word2Vec(sentences=training_data, vector_size=500, window=context_size, sg=0, min_count=1, workers=4)\n",
    "\n",
    "# Training the CBOW model\n",
    "model_cbow.train(training_data, total_examples=len(training_data), epochs=20)\n",
    "\n",
    "# Given two previous and two latter words, predict the target word\n",
    "previous_words = [\"name\", \"Harish\"]\n",
    "latter_words = [\"sing\", \"folks\"]\n",
    "\n",
    "# Use the predict_output_word function from gensim.models.word2vec module\n",
    "predicted_word = model_cbow.predict_output_word(previous_words + latter_words, topn=1)\n",
    "\n",
    "print(f\"Predicted word: {predicted_word}\")\n",
    "\n"
   ]
  },
  {
   "cell_type": "code",
   "execution_count": 2,
   "metadata": {},
   "outputs": [
    {
     "name": "stdout",
     "output_type": "stream",
     "text": [
      "Collecting gensim\n",
      "  Obtaining dependency information for gensim from https://files.pythonhosted.org/packages/ad/97/b8253236dfedb9094f4273393a3fd03997da81f27f15822e56128da894ae/gensim-4.3.2-cp311-cp311-win_amd64.whl.metadata\n",
      "  Downloading gensim-4.3.2-cp311-cp311-win_amd64.whl.metadata (8.5 kB)\n",
      "Requirement already satisfied: numpy>=1.18.5 in c:\\users\\tejas\\appdata\\local\\programs\\python\\python311\\lib\\site-packages (from gensim) (1.24.3)\n",
      "Requirement already satisfied: scipy>=1.7.0 in c:\\users\\tejas\\appdata\\local\\programs\\python\\python311\\lib\\site-packages (from gensim) (1.11.1)\n",
      "Collecting smart-open>=1.8.1 (from gensim)\n",
      "  Obtaining dependency information for smart-open>=1.8.1 from https://files.pythonhosted.org/packages/fc/d9/d97f1db64b09278aba64e8c81b5d322d436132df5741c518f3823824fae0/smart_open-6.4.0-py3-none-any.whl.metadata\n",
      "  Downloading smart_open-6.4.0-py3-none-any.whl.metadata (21 kB)\n",
      "Downloading gensim-4.3.2-cp311-cp311-win_amd64.whl (24.0 MB)\n",
      "   ---------------------------------------- 0.0/24.0 MB ? eta -:--:--\n",
      "    --------------------------------------- 0.4/24.0 MB 11.2 MB/s eta 0:00:03\n",
      "    --------------------------------------- 0.6/24.0 MB 6.1 MB/s eta 0:00:04\n",
      "   - -------------------------------------- 0.8/24.0 MB 6.5 MB/s eta 0:00:04\n",
      "   - -------------------------------------- 1.1/24.0 MB 6.5 MB/s eta 0:00:04\n",
      "   -- ------------------------------------- 1.4/24.0 MB 6.7 MB/s eta 0:00:04\n",
      "   -- ------------------------------------- 1.7/24.0 MB 6.4 MB/s eta 0:00:04\n",
      "   --- ------------------------------------ 2.0/24.0 MB 6.6 MB/s eta 0:00:04\n",
      "   --- ------------------------------------ 2.3/24.0 MB 6.8 MB/s eta 0:00:04\n",
      "   ---- ----------------------------------- 2.8/24.0 MB 7.1 MB/s eta 0:00:04\n",
      "   ----- ---------------------------------- 3.2/24.0 MB 7.3 MB/s eta 0:00:03\n",
      "   ----- ---------------------------------- 3.4/24.0 MB 7.1 MB/s eta 0:00:03\n",
      "   ------ --------------------------------- 3.6/24.0 MB 6.8 MB/s eta 0:00:04\n",
      "   ------ --------------------------------- 3.6/24.0 MB 6.8 MB/s eta 0:00:04\n",
      "   ------ --------------------------------- 4.0/24.0 MB 6.5 MB/s eta 0:00:04\n",
      "   ------- -------------------------------- 4.3/24.0 MB 6.5 MB/s eta 0:00:04\n",
      "   ------- -------------------------------- 4.7/24.0 MB 6.8 MB/s eta 0:00:03\n",
      "   -------- ------------------------------- 5.4/24.0 MB 7.3 MB/s eta 0:00:03\n",
      "   ---------- ----------------------------- 6.1/24.0 MB 7.8 MB/s eta 0:00:03\n",
      "   ----------- ---------------------------- 6.7/24.0 MB 8.1 MB/s eta 0:00:03\n",
      "   ------------ --------------------------- 7.5/24.0 MB 8.6 MB/s eta 0:00:02\n",
      "   ------------- -------------------------- 8.3/24.0 MB 9.0 MB/s eta 0:00:02\n",
      "   --------------- ------------------------ 9.0/24.0 MB 9.3 MB/s eta 0:00:02\n",
      "   ---------------- ----------------------- 9.8/24.0 MB 9.7 MB/s eta 0:00:02\n",
      "   ----------------- ---------------------- 10.6/24.0 MB 9.9 MB/s eta 0:00:02\n",
      "   ------------------ --------------------- 11.3/24.0 MB 10.9 MB/s eta 0:00:02\n",
      "   ------------------- -------------------- 11.9/24.0 MB 11.7 MB/s eta 0:00:02\n",
      "   --------------------- ------------------ 12.6/24.0 MB 12.4 MB/s eta 0:00:01\n",
      "   ---------------------- ----------------- 13.3/24.0 MB 12.8 MB/s eta 0:00:01\n",
      "   ----------------------- ---------------- 14.0/24.0 MB 15.2 MB/s eta 0:00:01\n",
      "   ------------------------ --------------- 14.7/24.0 MB 16.0 MB/s eta 0:00:01\n",
      "   ------------------------- -------------- 15.4/24.0 MB 16.0 MB/s eta 0:00:01\n",
      "   ------------------------- -------------- 15.4/24.0 MB 16.4 MB/s eta 0:00:01\n",
      "   -------------------------- ------------- 15.8/24.0 MB 14.9 MB/s eta 0:00:01\n",
      "   ---------------------------- ----------- 16.8/24.0 MB 15.2 MB/s eta 0:00:01\n",
      "   ----------------------------- ---------- 17.6/24.0 MB 15.2 MB/s eta 0:00:01\n",
      "   ------------------------------ --------- 18.2/24.0 MB 15.2 MB/s eta 0:00:01\n",
      "   ------------------------------- -------- 18.8/24.0 MB 14.9 MB/s eta 0:00:01\n",
      "   -------------------------------- ------- 19.5/24.0 MB 14.9 MB/s eta 0:00:01\n",
      "   --------------------------------- ------ 20.3/24.0 MB 14.9 MB/s eta 0:00:01\n",
      "   ---------------------------------- ----- 20.8/24.0 MB 14.6 MB/s eta 0:00:01\n",
      "   ------------------------------------ --- 21.6/24.0 MB 14.6 MB/s eta 0:00:01\n",
      "   ------------------------------------- -- 22.3/24.0 MB 14.9 MB/s eta 0:00:01\n",
      "   -------------------------------------- - 23.2/24.0 MB 14.6 MB/s eta 0:00:01\n",
      "   ---------------------------------------  23.9/24.0 MB 14.5 MB/s eta 0:00:01\n",
      "   ---------------------------------------  24.0/24.0 MB 14.9 MB/s eta 0:00:01\n",
      "   ---------------------------------------  24.0/24.0 MB 14.9 MB/s eta 0:00:01\n",
      "   ---------------------------------------  24.0/24.0 MB 14.9 MB/s eta 0:00:01\n",
      "   ---------------------------------------  24.0/24.0 MB 14.9 MB/s eta 0:00:01\n",
      "   ---------------------------------------  24.0/24.0 MB 14.9 MB/s eta 0:00:01\n",
      "   ---------------------------------------- 24.0/24.0 MB 11.1 MB/s eta 0:00:00\n",
      "Downloading smart_open-6.4.0-py3-none-any.whl (57 kB)\n",
      "   ---------------------------------------- 0.0/57.0 kB ? eta -:--:--\n",
      "   ---------------------------------------- 57.0/57.0 kB ? eta 0:00:00\n",
      "Installing collected packages: smart-open, gensim\n",
      "Successfully installed gensim-4.3.2 smart-open-6.4.0\n",
      "Note: you may need to restart the kernel to use updated packages.\n"
     ]
    },
    {
     "name": "stderr",
     "output_type": "stream",
     "text": [
      "DEPRECATION: Loading egg at c:\\users\\tejas\\appdata\\local\\programs\\python\\python311\\lib\\site-packages\\fitbit-0.3.1-py3.11.egg is deprecated. pip 23.3 will enforce this behaviour change. A possible replacement is to use pip for package installation..\n",
      "DEPRECATION: Loading egg at c:\\users\\tejas\\appdata\\local\\programs\\python\\python311\\lib\\site-packages\\oauthlib-3.2.2-py3.11.egg is deprecated. pip 23.3 will enforce this behaviour change. A possible replacement is to use pip for package installation..\n",
      "DEPRECATION: Loading egg at c:\\users\\tejas\\appdata\\local\\programs\\python\\python311\\lib\\site-packages\\python_dateutil-2.8.2-py3.11.egg is deprecated. pip 23.3 will enforce this behaviour change. A possible replacement is to use pip for package installation..\n",
      "DEPRECATION: Loading egg at c:\\users\\tejas\\appdata\\local\\programs\\python\\python311\\lib\\site-packages\\requests_oauthlib-1.3.1-py3.11.egg is deprecated. pip 23.3 will enforce this behaviour change. A possible replacement is to use pip for package installation..\n",
      "DEPRECATION: Loading egg at c:\\users\\tejas\\appdata\\local\\programs\\python\\python311\\lib\\site-packages\\six-1.16.0-py3.11.egg is deprecated. pip 23.3 will enforce this behaviour change. A possible replacement is to use pip for package installation..\n",
      "\n",
      "[notice] A new release of pip is available: 23.2.1 -> 23.3.1\n",
      "[notice] To update, run: python.exe -m pip install --upgrade pip\n"
     ]
    }
   ],
   "source": [
    "pip install gensim"
   ]
  },
  {
   "cell_type": "code",
   "execution_count": 4,
   "metadata": {},
   "outputs": [
    {
     "name": "stdout",
     "output_type": "stream",
     "text": [
      "Collecting nltkNote: you may need to restart the kernel to use updated packages.\n",
      "\n",
      "  Downloading nltk-3.8.1-py3-none-any.whl (1.5 MB)\n",
      "     ---------------------------------------- 0.0/1.5 MB ? eta -:--:--\n",
      "     ----- ---------------------------------- 0.2/1.5 MB 4.4 MB/s eta 0:00:01\n",
      "     ------------------------------- -------- 1.2/1.5 MB 12.7 MB/s eta 0:00:01\n",
      "     ---------------------------------------  1.5/1.5 MB 12.0 MB/s eta 0:00:01\n",
      "     ---------------------------------------- 1.5/1.5 MB 8.0 MB/s eta 0:00:00\n",
      "Requirement already satisfied: click in c:\\users\\tejas\\appdata\\local\\programs\\python\\python311\\lib\\site-packages (from nltk) (8.1.3)\n",
      "Requirement already satisfied: joblib in c:\\users\\tejas\\appdata\\local\\programs\\python\\python311\\lib\\site-packages (from nltk) (1.3.1)\n",
      "Collecting regex>=2021.8.3 (from nltk)\n",
      "  Obtaining dependency information for regex>=2021.8.3 from https://files.pythonhosted.org/packages/b8/ad/3398312096118c4e62a5827664e52a04d5068e84d04142dd4a0da8a567ae/regex-2023.10.3-cp311-cp311-win_amd64.whl.metadata\n",
      "  Downloading regex-2023.10.3-cp311-cp311-win_amd64.whl.metadata (41 kB)\n",
      "     ---------------------------------------- 0.0/42.0 kB ? eta -:--:--\n",
      "     ---------------------------------------- 42.0/42.0 kB 2.1 MB/s eta 0:00:00\n",
      "Requirement already satisfied: tqdm in c:\\users\\tejas\\appdata\\local\\programs\\python\\python311\\lib\\site-packages (from nltk) (4.66.1)\n",
      "Requirement already satisfied: colorama in c:\\users\\tejas\\appdata\\local\\programs\\python\\python311\\lib\\site-packages (from click->nltk) (0.4.6)\n",
      "Downloading regex-2023.10.3-cp311-cp311-win_amd64.whl (269 kB)\n",
      "   ---------------------------------------- 0.0/269.6 kB ? eta -:--:--\n",
      "   --------------------------------------- 269.6/269.6 kB 16.2 MB/s eta 0:00:00\n",
      "Installing collected packages: regex, nltk\n",
      "Successfully installed nltk-3.8.1 regex-2023.10.3\n"
     ]
    },
    {
     "name": "stderr",
     "output_type": "stream",
     "text": [
      "DEPRECATION: Loading egg at c:\\users\\tejas\\appdata\\local\\programs\\python\\python311\\lib\\site-packages\\fitbit-0.3.1-py3.11.egg is deprecated. pip 23.3 will enforce this behaviour change. A possible replacement is to use pip for package installation..\n",
      "DEPRECATION: Loading egg at c:\\users\\tejas\\appdata\\local\\programs\\python\\python311\\lib\\site-packages\\oauthlib-3.2.2-py3.11.egg is deprecated. pip 23.3 will enforce this behaviour change. A possible replacement is to use pip for package installation..\n",
      "DEPRECATION: Loading egg at c:\\users\\tejas\\appdata\\local\\programs\\python\\python311\\lib\\site-packages\\python_dateutil-2.8.2-py3.11.egg is deprecated. pip 23.3 will enforce this behaviour change. A possible replacement is to use pip for package installation..\n",
      "DEPRECATION: Loading egg at c:\\users\\tejas\\appdata\\local\\programs\\python\\python311\\lib\\site-packages\\requests_oauthlib-1.3.1-py3.11.egg is deprecated. pip 23.3 will enforce this behaviour change. A possible replacement is to use pip for package installation..\n",
      "DEPRECATION: Loading egg at c:\\users\\tejas\\appdata\\local\\programs\\python\\python311\\lib\\site-packages\\six-1.16.0-py3.11.egg is deprecated. pip 23.3 will enforce this behaviour change. A possible replacement is to use pip for package installation..\n",
      "\n",
      "[notice] A new release of pip is available: 23.2.1 -> 23.3.1\n",
      "[notice] To update, run: python.exe -m pip install --upgrade pip\n"
     ]
    }
   ],
   "source": [
    "pip install nltk"
   ]
  },
  {
   "cell_type": "code",
   "execution_count": null,
   "metadata": {
    "colab": {
     "base_uri": "https://localhost:8080/"
    },
    "executionInfo": {
     "elapsed": 549,
     "status": "ok",
     "timestamp": 1700296496980,
     "user": {
      "displayName": "Harish Bapat",
      "userId": "01261412703411895454"
     },
     "user_tz": -330
    },
    "id": "MJ8u2oURHde5",
    "outputId": "f6f8ce85-6f6a-48f6-9480-4af74ef36edb"
   },
   "outputs": [
    {
     "name": "stdout",
     "output_type": "stream",
     "text": [
      "Words most similar to 'love':\n",
      "name: 0.006858860608190298\n",
      "hi: -0.04485169053077698\n",
      "folks: -0.05462680757045746\n"
     ]
    }
   ],
   "source": [
    "similar_words = model_cbow.wv.most_similar(predicted_word, topn=5)\n",
    "\n",
    "print(f\"Words most similar to '{predicted_word}':\")\n",
    "for word, similarity in similar_words:\n",
    "    print(f\"{word}: {similarity}\")"
   ]
  },
  {
   "cell_type": "code",
   "execution_count": 6,
   "metadata": {
    "colab": {
     "base_uri": "https://localhost:8080/"
    },
    "executionInfo": {
     "elapsed": 390,
     "status": "ok",
     "timestamp": 1700282105226,
     "user": {
      "displayName": "Harish Bapat",
      "userId": "01261412703411895454"
     },
     "user_tz": -330
    },
    "id": "d1cmIhS9H80x",
    "outputId": "2e9e78d3-1b2f-458d-c472-bbb04d1453a5"
   },
   "outputs": [
    {
     "data": {
      "text/plain": [
       "['hi', 'name', 'love', 'love', 'folks']"
      ]
     },
     "execution_count": 6,
     "metadata": {},
     "output_type": "execute_result"
    }
   ],
   "source": [
    "tokens\n"
   ]
  },
  {
   "cell_type": "code",
   "execution_count": null,
   "metadata": {},
   "outputs": [],
   "source": []
  }
 ],
 "metadata": {
  "colab": {
   "provenance": []
  },
  "kernelspec": {
   "display_name": "Python 3 (ipykernel)",
   "language": "python",
   "name": "python3"
  },
  "language_info": {
   "codemirror_mode": {
    "name": "ipython",
    "version": 3
   },
   "file_extension": ".py",
   "mimetype": "text/x-python",
   "name": "python",
   "nbconvert_exporter": "python",
   "pygments_lexer": "ipython3",
   "version": "3.12.3"
  }
 },
 "nbformat": 4,
 "nbformat_minor": 4
}
